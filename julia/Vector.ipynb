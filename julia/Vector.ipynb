{
 "cells": [
  {
   "cell_type": "code",
   "execution_count": 2,
   "id": "b32c9c80",
   "metadata": {},
   "outputs": [
    {
     "name": "stderr",
     "output_type": "stream",
     "text": [
      "WARNING: replacing module Draw.\n"
     ]
    },
    {
     "data": {
      "image/png": "[encoded data removed]",
      "text/plain": [
       "PyPlot.Figure(PyObject <Figure size 640x480 with 1 Axes>)"
      ]
     },
     "metadata": {},
     "output_type": "display_data"
    }
   ],
   "source": [
    "using NBInclude\n",
    "@nbinclude(\"Vector_lib.ipynb\")\n",
    "#=\n",
    "=#\n",
    "Draw.draw_init()\n",
    "a=[[[1,2],\"blue\"],[[2,3],\"black\"]]\n",
    "Draw.add_vec()\n",
    "Draw.set_lim([0,5],[0,5])\n",
    "Draw.drawing()\n",
    "\n"
   ]
  },
  {
   "cell_type": "markdown",
   "id": "0ddb4ca5",
   "metadata": {},
   "source": [
    "## Problem Set 1.1"
   ]
  },
  {
   "cell_type": "markdown",
   "id": "ea774e3f",
   "metadata": {},
   "source": [
    "#### 10. Which point of the cube is i+j?Which point is the vector sum of i = (1,0,0) and j = (0,1,0) and \n",
    "#### k = (0,0,1)? describe  all points (x,y,z) in cube"
   ]
  },
  {
   "cell_type": "code",
   "execution_count": 6,
   "id": "633d774f",
   "metadata": {},
   "outputs": [
    {
     "name": "stderr",
     "output_type": "stream",
     "text": [
      "WARNING: replacing module Draw.\n"
     ]
    },
    {
     "ename": "LoadError",
     "evalue": "LoadError: PyError ($(Expr(:escape, :(ccall(#= C:\\Users\\cloudann\\.julia\\packages\\PyCall\\twYvK\\src\\pyfncall.jl:43 =# @pysym(:PyObject_Call), PyPtr, (PyPtr, PyPtr, PyPtr), o, pyargsptr, kw))))) <class 'TypeError'>\nTypeError(\"FigureBase.gca() got an unexpected keyword argument 'projection'\")\n\nin expression starting at F:\\desk\\jupyter\\git\\full_project\\julia\\Vector_lib.ipynb:In[25]:9",
     "output_type": "error",
     "traceback": [
      "LoadError: PyError ($(Expr(:escape, :(ccall(#= C:\\Users\\cloudann\\.julia\\packages\\PyCall\\twYvK\\src\\pyfncall.jl:43 =# @pysym(:PyObject_Call), PyPtr, (PyPtr, PyPtr, PyPtr), o, pyargsptr, kw))))) <class 'TypeError'>\nTypeError(\"FigureBase.gca() got an unexpected keyword argument 'projection'\")\n\nin expression starting at F:\\desk\\jupyter\\git\\full_project\\julia\\Vector_lib.ipynb:In[25]:9",
      "",
      "Stacktrace:",
      "  [1] pyerr_check",
      "    @ C:\\Users\\cloudann\\.julia\\packages\\PyCall\\twYvK\\src\\exception.jl:75 [inlined]",
      "  [2] pyerr_check",
      "    @ C:\\Users\\cloudann\\.julia\\packages\\PyCall\\twYvK\\src\\exception.jl:79 [inlined]",
      "  [3] _handle_error(msg::String)",
      "    @ PyCall C:\\Users\\cloudann\\.julia\\packages\\PyCall\\twYvK\\src\\exception.jl:96",
      "  [4] macro expansion",
      "    @ C:\\Users\\cloudann\\.julia\\packages\\PyCall\\twYvK\\src\\exception.jl:110 [inlined]",
      "  [5] #107",
      "    @ C:\\Users\\cloudann\\.julia\\packages\\PyCall\\twYvK\\src\\pyfncall.jl:43 [inlined]",
      "  [6] disable_sigint",
      "    @ .\\c.jl:473 [inlined]",
      "  [7] __pycall!",
      "    @ C:\\Users\\cloudann\\.julia\\packages\\PyCall\\twYvK\\src\\pyfncall.jl:42 [inlined]",
      "  [8] _pycall!(ret::PyCall.PyObject, o::PyCall.PyObject, args::Tuple{}, nargs::Int64, kw::PyCall.PyObject)",
      "    @ PyCall C:\\Users\\cloudann\\.julia\\packages\\PyCall\\twYvK\\src\\pyfncall.jl:29",
      "  [9] _pycall!",
      "    @ C:\\Users\\cloudann\\.julia\\packages\\PyCall\\twYvK\\src\\pyfncall.jl:11 [inlined]",
      " [10] (::PyCall.PyObject)(; kwargs::Base.Pairs{Symbol, String, Tuple{Symbol}, NamedTuple{(:projection,), Tuple{String}}})",
      "    @ PyCall C:\\Users\\cloudann\\.julia\\packages\\PyCall\\twYvK\\src\\pyfncall.jl:86",
      " [11] kwcall(::NamedTuple{(:projection,), Tuple{String}}, ::PyCall.PyObject)",
      "    @ PyCall C:\\Users\\cloudann\\.julia\\packages\\PyCall\\twYvK\\src\\pyfncall.jl:86",
      " [12] set_3d()",
      "    @ Main F:\\desk\\jupyter\\git\\full_project\\julia\\Vector_lib.ipynb:In[25]:3",
      " [13] top-level scope",
      "    @ F:\\desk\\jupyter\\git\\full_project\\julia\\Vector_lib.ipynb:In[25]:9",
      " [14] eval",
      "    @ .\\boot.jl:370 [inlined]",
      " [15] include_string(mapexpr::typeof(identity), mod::Module, code::String, filename::String)",
      "    @ Base .\\loading.jl:1754",
      " [16] include_string",
      "    @ .\\loading.jl:1764 [inlined]",
      " [17] my_include_string(m::Module, s::String, path::String, prev::Nothing, softscope::Bool)",
      "    @ NBInclude C:\\Users\\cloudann\\.julia\\packages\\NBInclude\\MxvbF\\src\\NBInclude.jl:30",
      " [18] #2",
      "    @ C:\\Users\\cloudann\\.julia\\packages\\NBInclude\\MxvbF\\src\\NBInclude.jl:93 [inlined]",
      " [19] task_local_storage(body::NBInclude.var\"#2#3\"{Bool, Module, String, Nothing, String, String}, key::Symbol, val::Bool)",
      "    @ Base .\\task.jl:296",
      " [20] nbinclude(m::Module, path::String; renumber::Bool, counters::UnitRange{Int64}, regex::Regex, anshook::typeof(identity), softscope::Bool)",
      "    @ NBInclude C:\\Users\\cloudann\\.julia\\packages\\NBInclude\\MxvbF\\src\\NBInclude.jl:92",
      " [21] nbinclude(m::Module, path::String)",
      "    @ NBInclude C:\\Users\\cloudann\\.julia\\packages\\NBInclude\\MxvbF\\src\\NBInclude.jl:57",
      " [22] top-level scope",
      "    @ In[6]:2"
     ]
    }
   ],
   "source": [
    "using NBInclude\n",
    "@nbinclude(\"Vector_lib.ipynb\")\n",
    "Draw.draw_init()\n",
    "Draw.set_3d()"
   ]
  }
 ],
 "metadata": {
  "kernelspec": {
   "display_name": "Julia 1.9.0-beta2",
   "language": "julia",
   "name": "julia-1.9"
  },
  "language_info": {
   "file_extension": ".jl",
   "mimetype": "application/julia",
   "name": "julia",
   "version": "1.9.0"
  }
 },
 "nbformat": 4,
 "nbformat_minor": 5
}
